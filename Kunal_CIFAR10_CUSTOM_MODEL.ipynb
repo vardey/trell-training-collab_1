{
  "nbformat": 4,
  "nbformat_minor": 0,
  "metadata": {
    "colab": {
      "name": "Kunal CIFAR10_CUSTOM_MODEL.ipynb",
      "provenance": [],
      "collapsed_sections": [],
      "include_colab_link": true
    },
    "kernelspec": {
      "name": "python3",
      "display_name": "Python 3"
    },
    "accelerator": "GPU"
  },
  "cells": [
    {
      "cell_type": "markdown",
      "metadata": {
        "id": "view-in-github",
        "colab_type": "text"
      },
      "source": [
        "<a href=\"https://colab.research.google.com/github/vardey/trell-training-collab_1/blob/main/Kunal_CIFAR10_CUSTOM_MODEL.ipynb\" target=\"_parent\"><img src=\"https://colab.research.google.com/assets/colab-badge.svg\" alt=\"Open In Colab\"/></a>"
      ]
    },
    {
      "cell_type": "code",
      "metadata": {
        "colab": {
          "base_uri": "https://localhost:8080/"
        },
        "id": "y_v8LlnNCsRg",
        "outputId": "d8b414cd-4cf5-412c-d63c-223d67d2884d"
      },
      "source": [
        "from __future__ import print_function\r\n",
        "from tensorflow.keras.layers import Dense, Conv2D, BatchNormalization, Activation\r\n",
        "from tensorflow.keras.layers import AveragePooling2D, Input, Flatten, MaxPooling2D\r\n",
        "from tensorflow.keras.models import Sequential\r\n",
        "from tensorflow.keras.optimizers import Adam\r\n",
        "from tensorflow.keras.callbacks import ModelCheckpoint, LearningRateScheduler\r\n",
        "from tensorflow.keras.callbacks import ReduceLROnPlateau\r\n",
        "from tensorflow.keras.preprocessing.image import ImageDataGenerator\r\n",
        "from tensorflow.keras.regularizers import l2\r\n",
        "from tensorflow.keras import backend as K\r\n",
        "from tensorflow.keras.models import Model\r\n",
        "from tensorflow.keras.datasets import cifar10\r\n",
        "import tensorflow as tf\r\n",
        "import numpy as np\r\n",
        "import os\r\n",
        "\r\n",
        "# Training parameters\r\n",
        "batch_size = 32  # orig paper trained all networks with batch_size=128\r\n",
        "epochs = 2\r\n",
        "data_augmentation = True\r\n",
        "num_classes = 10\r\n",
        "\r\n",
        "# Subtracting pixel mean improves accuracy\r\n",
        "subtract_pixel_mean = True\r\n",
        "\r\n",
        "# Load the CIFAR10 data.\r\n",
        "(x_train, y_train), (x_test, y_test) = cifar10.load_data()\r\n",
        "\r\n",
        "# Input image dimensions.\r\n",
        "input_shape = x_train.shape[1:]\r\n",
        "\r\n",
        "# Normalize data.\r\n",
        "x_train = x_train.astype('float32') / 255\r\n",
        "x_test = x_test.astype('float32') / 255\r\n",
        "\r\n",
        "# If subtract pixel mean is enabled\r\n",
        "if subtract_pixel_mean:\r\n",
        "    x_train_mean = np.mean(x_train, axis=0)\r\n",
        "    x_train -= x_train_mean\r\n",
        "    x_test -= x_train_mean\r\n",
        "\r\n",
        "print('x_train shape:', x_train.shape)\r\n",
        "print(x_train.shape[0], 'train samples')\r\n",
        "print(x_test.shape[0], 'test samples')\r\n",
        "print('y_train shape:', y_train.shape)\r\n",
        "\r\n",
        "# Convert class vectors to binary class matrices.\r\n",
        "y_train = tf.keras.utils.to_categorical(y_train, num_classes)\r\n",
        "y_test = tf.keras.utils.to_categorical(y_test, num_classes)"
      ],
      "execution_count": 1,
      "outputs": [
        {
          "output_type": "stream",
          "text": [
            "Downloading data from https://www.cs.toronto.edu/~kriz/cifar-10-python.tar.gz\n",
            "170500096/170498071 [==============================] - 8s 0us/step\n",
            "x_train shape: (50000, 32, 32, 3)\n",
            "50000 train samples\n",
            "10000 test samples\n",
            "y_train shape: (50000, 1)\n"
          ],
          "name": "stdout"
        }
      ]
    },
    {
      "cell_type": "markdown",
      "metadata": {
        "id": "pUfONn4uC0OA"
      },
      "source": [
        "# Your model"
      ]
    },
    {
      "cell_type": "code",
      "metadata": {
        "colab": {
          "base_uri": "https://localhost:8080/"
        },
        "id": "HgYDvoe-Cx2C",
        "outputId": "f74e3094-c3c8-49cc-984d-8447b6b259c6"
      },
      "source": [
        "model = Sequential()\r\n",
        "model.add(Conv2D(16, (3, 3), activation='relu', padding='same', input_shape=(32, 32, 3)))\r\n",
        "model.add(BatchNormalization())\r\n",
        "model.add(MaxPooling2D((2, 2)))\r\n",
        "model.add(Conv2D(32, (3, 3), activation='relu', padding='same'))\r\n",
        "model.add(BatchNormalization())\r\n",
        "model.add(MaxPooling2D((2, 2)))\r\n",
        "model.add(Flatten())\r\n",
        "model.add(Dense(32, activation='relu'))\r\n",
        "model.add(Dense(10, activation='softmax'))\r\n",
        "model.summary()"
      ],
      "execution_count": 2,
      "outputs": [
        {
          "output_type": "stream",
          "text": [
            "Model: \"sequential\"\n",
            "_________________________________________________________________\n",
            "Layer (type)                 Output Shape              Param #   \n",
            "=================================================================\n",
            "conv2d (Conv2D)              (None, 32, 32, 16)        448       \n",
            "_________________________________________________________________\n",
            "batch_normalization (BatchNo (None, 32, 32, 16)        64        \n",
            "_________________________________________________________________\n",
            "max_pooling2d (MaxPooling2D) (None, 16, 16, 16)        0         \n",
            "_________________________________________________________________\n",
            "conv2d_1 (Conv2D)            (None, 16, 16, 32)        4640      \n",
            "_________________________________________________________________\n",
            "batch_normalization_1 (Batch (None, 16, 16, 32)        128       \n",
            "_________________________________________________________________\n",
            "max_pooling2d_1 (MaxPooling2 (None, 8, 8, 32)          0         \n",
            "_________________________________________________________________\n",
            "flatten (Flatten)            (None, 2048)              0         \n",
            "_________________________________________________________________\n",
            "dense (Dense)                (None, 32)                65568     \n",
            "_________________________________________________________________\n",
            "dense_1 (Dense)              (None, 10)                330       \n",
            "=================================================================\n",
            "Total params: 71,178\n",
            "Trainable params: 71,082\n",
            "Non-trainable params: 96\n",
            "_________________________________________________________________\n"
          ],
          "name": "stdout"
        }
      ]
    },
    {
      "cell_type": "code",
      "metadata": {
        "id": "CsG72XiWDB3r"
      },
      "source": [
        "# compile model\r\n",
        "model.compile(optimizer='sgd', loss='categorical_crossentropy', metrics=['accuracy'])"
      ],
      "execution_count": 19,
      "outputs": []
    },
    {
      "cell_type": "code",
      "metadata": {
        "id": "sUqbrWrjClLJ"
      },
      "source": [
        "reduce_lr = ReduceLROnPlateau(monitor='val_loss', factor=0.2,\r\n",
        "                              patience=5, min_lr=0.001)"
      ],
      "execution_count": 20,
      "outputs": []
    },
    {
      "cell_type": "code",
      "metadata": {
        "id": "Odo74pTYH9q3"
      },
      "source": [
        "from tensorflow.keras.preprocessing.image import ImageDataGenerator\r\n",
        "aug = ImageDataGenerator(\r\n",
        "\t\thorizontal_flip=True\r\n",
        "    )"
      ],
      "execution_count": 35,
      "outputs": []
    },
    {
      "cell_type": "code",
      "metadata": {
        "id": "ZpyNPPC3DLHY",
        "colab": {
          "base_uri": "https://localhost:8080/"
        },
        "outputId": "bcfdabf8-fc77-4d8c-be95-635f14a94142"
      },
      "source": [
        "model.fit(x=aug.flow(x_train, y_train, batch_size=batch_size),\r\n",
        "          batch_size=batch_size,\r\n",
        "          epochs=epochs,\r\n",
        "          validation_data=(x_test, y_test),\r\n",
        "          shuffle=True, callbacks=[reduce_lr])\r\n",
        "# Score trained model.\r\n",
        "scores = model.evaluate(x_test, y_test, verbose=1)\r\n",
        "print('Test loss:', scores[0])\r\n",
        "print('Test accuracy:', scores[1])"
      ],
      "execution_count": 36,
      "outputs": [
        {
          "output_type": "stream",
          "text": [
            "Epoch 1/2\n",
            "1563/1563 [==============================] - 65s 42ms/step - loss: 0.6874 - accuracy: 0.7623 - val_loss: 0.8233 - val_accuracy: 0.7176\n",
            "Epoch 2/2\n",
            "1563/1563 [==============================] - 65s 41ms/step - loss: 0.6549 - accuracy: 0.7711 - val_loss: 0.8016 - val_accuracy: 0.7264\n",
            "313/313 [==============================] - 7s 21ms/step - loss: 0.8016 - accuracy: 0.7264\n",
            "Test loss: 0.801580548286438\n",
            "Test accuracy: 0.7264000177383423\n"
          ],
          "name": "stdout"
        }
      ]
    },
    {
      "cell_type": "code",
      "metadata": {
        "id": "7p-NBOIWMMD8"
      },
      "source": [
        ""
      ],
      "execution_count": null,
      "outputs": []
    }
  ]
}